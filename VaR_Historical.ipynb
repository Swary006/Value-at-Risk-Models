{
 "cells": [
  {
   "cell_type": "code",
   "execution_count": null,
   "id": "8344919f",
   "metadata": {},
   "outputs": [
    {
     "name": "stderr",
     "output_type": "stream",
     "text": [
      "C:\\Users\\swara\\AppData\\Local\\Temp\\ipykernel_19164\\647494074.py:15: FutureWarning: YF.download() has changed argument auto_adjust default to True\n",
      "  prices = yf.download(tickers, start=startDate, end=endDate)['Close']\n",
      "[*********************100%***********************]  3 of 3 completed"
     ]
    },
    {
     "name": "stdout",
     "output_type": "stream",
     "text": [
      "38121.87984061465\n"
     ]
    },
    {
     "name": "stderr",
     "output_type": "stream",
     "text": [
      "\n"
     ]
    }
   ],
   "source": [
    "import numpy as np\n",
    "import pandas as pd\n",
    "import datetime as dt\n",
    "import yfinance as yf\n",
    "import matplotlib.pyplot as plt\n",
    "\n",
    "years = 5\n",
    "# Define the start and end dates for the data retrieval\n",
    "endDate = dt.datetime.now()\n",
    "startDate = endDate - dt.timedelta(days=365 * years)\n",
    "\n",
    "# Create a List of stock tickers\n",
    "tickers = ['INFY.NS', 'CIPLA.NS', 'ITC.NS']\n",
    "\n",
    "# Fetch the adjusted closing price using yfinance\n",
    "prices = yf.download(tickers, start=startDate, end=endDate)['Close']\n",
    "prices = pd.DataFrame(prices)\n",
    "prices.head()\n",
    "\n",
    "# Calculate the daily returns\n",
    "returns = prices.pct_change().dropna()\n",
    "\n",
    "# Create equal-weighted portfolio\n",
    "portfolio_value = 1000000 # Initial portfolio value\n",
    "weights = np.array([1/len(tickers)] * len(tickers))\n",
    "\n",
    "# Calculate daily portfolio returns\n",
    "portfolio_returns = returns.dot(weights)\n",
    "\n",
    "# Find X-Day Historical Returns\n",
    "days = 1\n",
    "\n",
    "range_returns = portfolio_returns.rolling(window=days).sum().dropna()\n",
    "\n",
    "# Calaculate VaR for the portfolio\n",
    "confidence_level = 0.99\n",
    "VaR = -np.percentile(range_returns, (1 - confidence_level) * 100)* portfolio_value\n",
    "print(VaR)\n",
    "\n",
    "#Show VAR in PLot Form\n",
    "plt.figure(figsize=(8,5))\n",
    "plt.hist(range_returns, bins=50, color='skyblue', edgecolor='black')\n",
    "plt.axvline(np.percentile(range_returns, (1-confidence_level)*100), color='red', linestyle='dashed', linewidth=2, label=f'VaR ({int(confidence_level*100)}%)')\n",
    "plt.title(f'Histogram of {days}-Day Rolling Portfolio Returns')\n",
    "plt.xlabel(f'{days}-Day Return')\n",
    "plt.ylabel('Frequency')\n",
    "plt.legend()\n",
    "plt.show()"
   ]
  }
 ],
 "metadata": {
  "kernelspec": {
   "display_name": "Python 3",
   "language": "python",
   "name": "python3"
  },
  "language_info": {
   "codemirror_mode": {
    "name": "ipython",
    "version": 3
   },
   "file_extension": ".py",
   "mimetype": "text/x-python",
   "name": "python",
   "nbconvert_exporter": "python",
   "pygments_lexer": "ipython3",
   "version": "3.13.5"
  }
 },
 "nbformat": 4,
 "nbformat_minor": 5
}
